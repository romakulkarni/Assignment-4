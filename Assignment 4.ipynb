{
 "cells": [
  {
   "cell_type": "code",
   "execution_count": null,
   "id": "e81055bc-2fb7-459f-a4c6-d88eb20fe3a7",
   "metadata": {},
   "outputs": [],
   "source": [
    "1. What exactly is []?\n",
    " Ans- [] is a empty list with no elements."
   ]
  },
  {
   "cell_type": "raw",
   "id": "36fd3bad-7dad-4156-b9f6-11e46cb617e5",
   "metadata": {},
   "source": [
    "2. In a list of values stored in a variable called spam, how would you assign the value 'hello' as the third value? (Assume [2, 4, 6, 8, 10] are in spam.)\n"
   ]
  },
  {
   "cell_type": "code",
   "execution_count": 1,
   "id": "7a672250-a1be-4719-be4b-a6e4aab42714",
   "metadata": {},
   "outputs": [
    {
     "name": "stdout",
     "output_type": "stream",
     "text": [
      "[2, 4, 6, 'hello', 10]\n"
     ]
    }
   ],
   "source": [
    "spam=[2,4,6,8,10]\n",
    "spam[3]='hello'\n",
    "print(spam)"
   ]
  },
  {
   "cell_type": "raw",
   "id": "5d22df00-8458-47de-850b-c12f80476f9e",
   "metadata": {},
   "source": [
    "Let's pretend the spam includes the list ['a', 'b', 'c', 'd'] for the next three queries.\n",
    "3. What is the value of spam[int(int('3' * 2) / 11)]?"
   ]
  },
  {
   "cell_type": "code",
   "execution_count": 2,
   "id": "e7122c73-f8fa-44d6-8d0f-910c68255d95",
   "metadata": {},
   "outputs": [
    {
     "name": "stdout",
     "output_type": "stream",
     "text": [
      "d\n"
     ]
    }
   ],
   "source": [
    "spam=['a', 'b', 'c', 'd']\n",
    "print(spam[int(int('3' * 2) / 11)])"
   ]
  },
  {
   "cell_type": "raw",
   "id": "622a4400-849b-497b-918b-634bb421a8c1",
   "metadata": {},
   "source": [
    "4. What is the value of spam[-1]?\n",
    "Ans- It will be d"
   ]
  },
  {
   "cell_type": "code",
   "execution_count": 3,
   "id": "e7334839-7bdf-4a05-bfc7-ce917e47e6dc",
   "metadata": {},
   "outputs": [
    {
     "name": "stdout",
     "output_type": "stream",
     "text": [
      "d\n"
     ]
    }
   ],
   "source": [
    "spam=['a', 'b', 'c', 'd']\n",
    "print(spam[-1])"
   ]
  },
  {
   "cell_type": "raw",
   "id": "208c1c25-51df-4abf-94d8-a5904ec6cb59",
   "metadata": {},
   "source": [
    "5. What is the value of spam[:2]?\n",
    "Ans- It will be 'a' and 'b'"
   ]
  },
  {
   "cell_type": "code",
   "execution_count": 4,
   "id": "115c849a-617a-42bb-b099-f3695c9612c0",
   "metadata": {},
   "outputs": [
    {
     "name": "stdout",
     "output_type": "stream",
     "text": [
      "['a', 'b']\n"
     ]
    }
   ],
   "source": [
    "spam=['a', 'b', 'c', 'd']\n",
    "print(spam[:2])"
   ]
  },
  {
   "cell_type": "raw",
   "id": "af802ed2-0fca-4755-bd54-66e503dc5fec",
   "metadata": {},
   "source": [
    "Let's pretend bacon has the list [3.14, 'cat,' 11, 'cat,' True] for the next three questions.\n",
    "6. What is the value of bacon.index('cat')?\n",
    "Ans- It will be 1 as this displays index of cat"
   ]
  },
  {
   "cell_type": "code",
   "execution_count": 9,
   "id": "ee4df5dd-7562-4dc7-82fd-a1d481be09ee",
   "metadata": {},
   "outputs": [
    {
     "name": "stdout",
     "output_type": "stream",
     "text": [
      "1\n"
     ]
    }
   ],
   "source": [
    "bacon=[3.14, 'cat', 11, 'cat' ,True]\n",
    "print(bacon.index('cat'))\n"
   ]
  },
  {
   "cell_type": "raw",
   "id": "429a54b7-8b46-46c7-9922-3a0ccb9f8f41",
   "metadata": {},
   "source": [
    "7. How does bacon.append(99) change the look of the list value in bacon?\n",
    "Ans- It adds 99 in the list "
   ]
  },
  {
   "cell_type": "code",
   "execution_count": 11,
   "id": "a0bdb7a0-7926-480e-9384-ffe03959f102",
   "metadata": {},
   "outputs": [
    {
     "name": "stdout",
     "output_type": "stream",
     "text": [
      "[3.14, 'cat', 11, 'cat', True, 99]\n"
     ]
    }
   ],
   "source": [
    "bacon=[3.14, 'cat', 11, 'cat' ,True]\n",
    "bacon.append(99)\n",
    "print(bacon)"
   ]
  },
  {
   "cell_type": "raw",
   "id": "02a47ea6-3de6-49bc-8f25-eb9a2bca968a",
   "metadata": {},
   "source": [
    "8. How does bacon.remove('cat') change the look of the list in bacon?\n",
    "Ans- It removes element that comes first 'cat' from list bacon"
   ]
  },
  {
   "cell_type": "code",
   "execution_count": 2,
   "id": "30ca6450-e33b-4a6f-91f1-127005972fa1",
   "metadata": {},
   "outputs": [
    {
     "name": "stdout",
     "output_type": "stream",
     "text": [
      "[3.14, 11, 'cat', True]\n"
     ]
    }
   ],
   "source": [
    "bacon=[3.14, 'cat', 11, 'cat' ,True]\n",
    "bacon.remove('cat')\n",
    "print(bacon)"
   ]
  },
  {
   "cell_type": "raw",
   "id": "40db49d4-dc30-4fce-beef-d71447756887",
   "metadata": {},
   "source": [
    "9. What are the list concatenation and list replication operators?\n",
    "Ans- List concatenation operator is + that adds two lists or joins two list.\n",
    "and replication operator is * replicates the elements in the list"
   ]
  },
  {
   "cell_type": "code",
   "execution_count": 5,
   "id": "77ff8f87-c954-4509-b5df-4885ffa9fd05",
   "metadata": {},
   "outputs": [
    {
     "name": "stdout",
     "output_type": "stream",
     "text": [
      "['a', 'b', 'c', 1, 2, 3]\n",
      "['a', 'b', 'c', 'a', 'b', 'c', 'a', 'b', 'c']\n"
     ]
    }
   ],
   "source": [
    "a=['a','b','c']\n",
    "b=[1,2,3]\n",
    "print(a+b)\n",
    "print(a * 3)"
   ]
  },
  {
   "cell_type": "raw",
   "id": "cdbe3563-6cb2-4357-a841-3f0114d10af8",
   "metadata": {},
   "source": [
    "10. What is difference between the list methods append() and insert()?\n",
    "Ans- append() is used to add a element in list and the element gets added at end \n",
    "     while insert is used to add elememt in specific index."
   ]
  },
  {
   "cell_type": "code",
   "execution_count": 15,
   "id": "a431d108-a1b7-44b0-8072-c62d7594a18b",
   "metadata": {},
   "outputs": [
    {
     "name": "stdout",
     "output_type": "stream",
     "text": [
      "[1, 2, 3, 4, 23]\n",
      "[1, 23, 2, 3, 4, 23]\n"
     ]
    }
   ],
   "source": [
    "a=[1,2,3,4]\n",
    "a.append(23)\n",
    "print(a)\n",
    "a.insert(1,23)\n",
    "print(a)\n"
   ]
  },
  {
   "cell_type": "raw",
   "id": "e1da3fc2-6ecc-402d-98e9-94dcd2246f21",
   "metadata": {},
   "source": [
    "11. What are the two methods for removing items from a list?\n",
    "Ans- The two methods for removing items from a list are remove() and pop().\n",
    "     Remove is used to remove a specific element in a list and \n",
    "     Pop is used to remove element at specific index"
   ]
  },
  {
   "cell_type": "code",
   "execution_count": 19,
   "id": "4691c582-54fc-4969-bee6-2c4f6e82bdb3",
   "metadata": {},
   "outputs": [
    {
     "name": "stdout",
     "output_type": "stream",
     "text": [
      "[1, 3, 4]\n",
      "[3, 4]\n"
     ]
    }
   ],
   "source": [
    "a=[1,2,3,4]\n",
    "a.remove(2)\n",
    "print(a)\n",
    "a.pop(0)\n",
    "print(a)"
   ]
  },
  {
   "cell_type": "raw",
   "id": "4792e1e8-b97a-4edb-9edd-4baea17fca89",
   "metadata": {},
   "source": [
    "12. Describe how list values and string values are identical.\n",
    "Ans- A list and a string both have lenghth as well as index.\n",
    "     We can calculate the length of a list by the number of items in the list and \n",
    "      length of string being the number of characters in the string\n",
    "        Both string and list have index too.\n"
   ]
  },
  {
   "cell_type": "raw",
   "id": "37ca2c89-5160-4caf-8a67-ebc0381f07b0",
   "metadata": {},
   "source": [
    "13. What's the difference between tuples and lists?\n",
    "Ans- Tuple is represented as () and list as []\n",
    "     Tuples are immutable while list are mutable\n",
    "     List can have different sizes but tuples cannot     "
   ]
  },
  {
   "cell_type": "raw",
   "id": "ad6ae3a0-9f0e-4be0-a5ac-3c02a8cd735e",
   "metadata": {},
   "source": [
    "14. How do you type a tuple value that only contains the integer 42?\n",
    "Ans- tup=(42,)"
   ]
  },
  {
   "cell_type": "code",
   "execution_count": 32,
   "id": "f79f12b0-156a-4acf-9597-9d39f65a9943",
   "metadata": {},
   "outputs": [
    {
     "name": "stdout",
     "output_type": "stream",
     "text": [
      "(42,)\n"
     ]
    }
   ],
   "source": [
    "tuple=(42,)\n",
    "print(tuple)"
   ]
  },
  {
   "cell_type": "raw",
   "id": "d50d0aad-00e5-4694-b8d0-b46c48923955",
   "metadata": {},
   "source": [
    "15. How do you get a list value's tuple form? How do you get a tuple value's list form?"
   ]
  },
  {
   "cell_type": "code",
   "execution_count": 2,
   "id": "b4cd2cf4-8730-4f6d-ad05-abc18b11c227",
   "metadata": {},
   "outputs": [
    {
     "name": "stdout",
     "output_type": "stream",
     "text": [
      "('A', 'B', 'C', 'D')\n",
      "[1, 2, 3]\n"
     ]
    }
   ],
   "source": [
    "l = ['A', 'B', 'C', 'D']\n",
    "t = tuple(l)\n",
    "print(t)\n",
    "A=(1,2,3)\n",
    "B=list(A)\n",
    "print(B)"
   ]
  },
  {
   "cell_type": "raw",
   "id": "f44d80d5-3317-461c-82f6-f60713ee51cb",
   "metadata": {},
   "source": [
    "16. Variables that \"contain\" list values are not necessarily lists themselves. Instead, what do they contain?\n",
    "Ans- They will contain reference to list values and not lists themselves.\n"
   ]
  },
  {
   "cell_type": "raw",
   "id": "ff8366a4-cbee-4313-b2ca-3236acc6fcf9",
   "metadata": {},
   "source": [
    "17. How do you distinguish between copy.copy() and copy.deepcopy()?\n",
    "Ans-copy.copy() makes a new compound and inserts references to objects found in original\n",
    "    copy.deepcopy() makes a new compound and inserts copies of objects forund in original"
   ]
  }
 ],
 "metadata": {
  "kernelspec": {
   "display_name": "Python 3 (ipykernel)",
   "language": "python",
   "name": "python3"
  },
  "language_info": {
   "codemirror_mode": {
    "name": "ipython",
    "version": 3
   },
   "file_extension": ".py",
   "mimetype": "text/x-python",
   "name": "python",
   "nbconvert_exporter": "python",
   "pygments_lexer": "ipython3",
   "version": "3.10.6"
  }
 },
 "nbformat": 4,
 "nbformat_minor": 5
}
